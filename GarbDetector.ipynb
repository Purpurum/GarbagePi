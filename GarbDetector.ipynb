{
 "cells": [
  {
   "attachments": {},
   "cell_type": "markdown",
   "metadata": {},
   "source": [
    "## -=Подготовка к запуску=-"
   ]
  },
  {
   "attachments": {},
   "cell_type": "markdown",
   "metadata": {},
   "source": [
    "### Установка пакетов"
   ]
  },
  {
   "attachments": {},
   "cell_type": "markdown",
   "metadata": {},
   "source": [
    "В случае, если пакеты через requirements.тхт установлены не были, блок ниже установит все необходимые пакеты для работы данного блокнота."
   ]
  },
  {
   "cell_type": "code",
   "execution_count": 1,
   "metadata": {},
   "outputs": [
    {
     "name": "stdout",
     "output_type": "stream",
     "text": [
      "Defaulting to user installation because normal site-packages is not writeable\n",
      "Requirement already satisfied: ultralytics==8.0.198 in c:\\users\\эльвира\\appdata\\roaming\\python\\python310\\site-packages (8.0.198)\n",
      "Requirement already satisfied: torch>=1.8.0 in c:\\users\\эльвира\\appdata\\roaming\\python\\python310\\site-packages (from ultralytics==8.0.198) (2.1.0)\n",
      "Requirement already satisfied: pillow>=7.1.2 in c:\\users\\эльвира\\appdata\\roaming\\python\\python310\\site-packages (from ultralytics==8.0.198) (10.0.1)\n",
      "Requirement already satisfied: torchvision>=0.9.0 in c:\\users\\эльвира\\appdata\\roaming\\python\\python310\\site-packages (from ultralytics==8.0.198) (0.16.0)\n",
      "Requirement already satisfied: opencv-python>=4.6.0 in c:\\users\\эльвира\\appdata\\roaming\\python\\python310\\site-packages (from ultralytics==8.0.198) (4.6.0.66)\n",
      "Requirement already satisfied: psutil in c:\\users\\эльвира\\appdata\\roaming\\python\\python310\\site-packages (from ultralytics==8.0.198) (5.9.6)\n",
      "Requirement already satisfied: pandas>=1.1.4 in c:\\users\\эльвира\\appdata\\roaming\\python\\python310\\site-packages (from ultralytics==8.0.198) (2.1.2)\n",
      "Requirement already satisfied: py-cpuinfo in c:\\users\\эльвира\\appdata\\roaming\\python\\python310\\site-packages (from ultralytics==8.0.198) (9.0.0)\n",
      "Requirement already satisfied: scipy>=1.4.1 in c:\\users\\эльвира\\appdata\\roaming\\python\\python310\\site-packages (from ultralytics==8.0.198) (1.11.3)\n",
      "Requirement already satisfied: thop>=0.1.1 in c:\\users\\эльвира\\appdata\\roaming\\python\\python310\\site-packages (from ultralytics==8.0.198) (0.1.1.post2209072238)\n",
      "Requirement already satisfied: seaborn>=0.11.0 in c:\\users\\эльвира\\appdata\\roaming\\python\\python310\\site-packages (from ultralytics==8.0.198) (0.13.0)\n",
      "Requirement already satisfied: pyyaml>=5.3.1 in c:\\users\\эльвира\\appdata\\roaming\\python\\python310\\site-packages (from ultralytics==8.0.198) (6.0.1)\n",
      "Requirement already satisfied: requests>=2.23.0 in c:\\users\\эльвира\\appdata\\roaming\\python\\python310\\site-packages (from ultralytics==8.0.198) (2.31.0)\n",
      "Requirement already satisfied: numpy>=1.22.2 in c:\\users\\эльвира\\appdata\\roaming\\python\\python310\\site-packages (from ultralytics==8.0.198) (1.24.3)\n",
      "Requirement already satisfied: matplotlib>=3.3.0 in c:\\users\\эльвира\\appdata\\roaming\\python\\python310\\site-packages (from ultralytics==8.0.198) (3.8.0)\n",
      "Requirement already satisfied: tqdm>=4.64.0 in c:\\users\\эльвира\\appdata\\roaming\\python\\python310\\site-packages (from ultralytics==8.0.198) (4.66.1)\n",
      "Requirement already satisfied: fonttools>=4.22.0 in c:\\users\\эльвира\\appdata\\roaming\\python\\python310\\site-packages (from matplotlib>=3.3.0->ultralytics==8.0.198) (4.43.1)\n",
      "Requirement already satisfied: kiwisolver>=1.0.1 in c:\\users\\эльвира\\appdata\\roaming\\python\\python310\\site-packages (from matplotlib>=3.3.0->ultralytics==8.0.198) (1.4.5)\n",
      "Requirement already satisfied: packaging>=20.0 in c:\\users\\эльвира\\appdata\\roaming\\python\\python310\\site-packages (from matplotlib>=3.3.0->ultralytics==8.0.198) (23.2)\n",
      "Requirement already satisfied: contourpy>=1.0.1 in c:\\users\\эльвира\\appdata\\roaming\\python\\python310\\site-packages (from matplotlib>=3.3.0->ultralytics==8.0.198) (1.1.1)\n",
      "Requirement already satisfied: cycler>=0.10 in c:\\users\\эльвира\\appdata\\roaming\\python\\python310\\site-packages (from matplotlib>=3.3.0->ultralytics==8.0.198) (0.12.1)\n",
      "Requirement already satisfied: python-dateutil>=2.7 in c:\\users\\эльвира\\appdata\\roaming\\python\\python310\\site-packages (from matplotlib>=3.3.0->ultralytics==8.0.198) (2.8.2)\n",
      "Requirement already satisfied: pyparsing>=2.3.1 in c:\\users\\эльвира\\appdata\\roaming\\python\\python310\\site-packages (from matplotlib>=3.3.0->ultralytics==8.0.198) (3.1.1)\n",
      "Requirement already satisfied: pytz>=2020.1 in c:\\users\\эльвира\\appdata\\roaming\\python\\python310\\site-packages (from pandas>=1.1.4->ultralytics==8.0.198) (2023.3.post1)\n",
      "Requirement already satisfied: tzdata>=2022.1 in c:\\users\\эльвира\\appdata\\roaming\\python\\python310\\site-packages (from pandas>=1.1.4->ultralytics==8.0.198) (2023.3)\n",
      "Requirement already satisfied: charset-normalizer<4,>=2 in c:\\users\\эльвира\\appdata\\roaming\\python\\python310\\site-packages (from requests>=2.23.0->ultralytics==8.0.198) (3.3.1)\n",
      "Requirement already satisfied: certifi>=2017.4.17 in c:\\users\\эльвира\\appdata\\roaming\\python\\python310\\site-packages (from requests>=2.23.0->ultralytics==8.0.198) (2023.7.22)\n",
      "Requirement already satisfied: idna<4,>=2.5 in c:\\users\\эльвира\\appdata\\roaming\\python\\python310\\site-packages (from requests>=2.23.0->ultralytics==8.0.198) (3.4)\n",
      "Requirement already satisfied: urllib3<3,>=1.21.1 in c:\\users\\эльвира\\appdata\\roaming\\python\\python310\\site-packages (from requests>=2.23.0->ultralytics==8.0.198) (2.0.7)\n",
      "Requirement already satisfied: typing-extensions in c:\\users\\эльвира\\appdata\\roaming\\python\\python310\\site-packages (from torch>=1.8.0->ultralytics==8.0.198) (4.8.0)\n",
      "Requirement already satisfied: sympy in c:\\users\\эльвира\\appdata\\roaming\\python\\python310\\site-packages (from torch>=1.8.0->ultralytics==8.0.198) (1.12)\n",
      "Requirement already satisfied: fsspec in c:\\users\\эльвира\\appdata\\roaming\\python\\python310\\site-packages (from torch>=1.8.0->ultralytics==8.0.198) (2023.10.0)\n",
      "Requirement already satisfied: jinja2 in c:\\users\\эльвира\\appdata\\roaming\\python\\python310\\site-packages (from torch>=1.8.0->ultralytics==8.0.198) (3.1.2)\n",
      "Requirement already satisfied: filelock in c:\\users\\эльвира\\appdata\\roaming\\python\\python310\\site-packages (from torch>=1.8.0->ultralytics==8.0.198) (3.12.0)\n",
      "Requirement already satisfied: networkx in c:\\users\\эльвира\\appdata\\roaming\\python\\python310\\site-packages (from torch>=1.8.0->ultralytics==8.0.198) (3.2.1)\n",
      "Requirement already satisfied: colorama in c:\\users\\эльвира\\appdata\\roaming\\python\\python310\\site-packages (from tqdm>=4.64.0->ultralytics==8.0.198) (0.4.6)\n",
      "Requirement already satisfied: six>=1.5 in c:\\users\\эльвира\\appdata\\roaming\\python\\python310\\site-packages (from python-dateutil>=2.7->matplotlib>=3.3.0->ultralytics==8.0.198) (1.16.0)\n",
      "Requirement already satisfied: MarkupSafe>=2.0 in c:\\users\\эльвира\\appdata\\roaming\\python\\python310\\site-packages (from jinja2->torch>=1.8.0->ultralytics==8.0.198) (2.1.3)\n",
      "Requirement already satisfied: mpmath>=0.19 in c:\\users\\эльвира\\appdata\\roaming\\python\\python310\\site-packages (from sympy->torch>=1.8.0->ultralytics==8.0.198) (1.3.0)\n",
      "Note: you may need to restart the kernel to use updated packages.\n"
     ]
    },
    {
     "name": "stderr",
     "output_type": "stream",
     "text": [
      "\n",
      "[notice] A new release of pip available: 22.3.1 -> 23.3.1\n",
      "[notice] To update, run: python.exe -m pip install --upgrade pip\n"
     ]
    },
    {
     "name": "stdout",
     "output_type": "stream",
     "text": [
      "Defaulting to user installation because normal site-packages is not writeable\n",
      "Requirement already satisfied: tifffile==2023.9.26 in c:\\users\\эльвира\\appdata\\roaming\\python\\python310\\site-packages (2023.9.26)\n",
      "Requirement already satisfied: numpy in c:\\users\\эльвира\\appdata\\roaming\\python\\python310\\site-packages (from tifffile==2023.9.26) (1.24.3)\n",
      "Note: you may need to restart the kernel to use updated packages.\n"
     ]
    },
    {
     "name": "stderr",
     "output_type": "stream",
     "text": [
      "\n",
      "[notice] A new release of pip available: 22.3.1 -> 23.3.1\n",
      "[notice] To update, run: python.exe -m pip install --upgrade pip\n"
     ]
    },
    {
     "name": "stdout",
     "output_type": "stream",
     "text": [
      "Defaulting to user installation because normal site-packages is not writeable\n",
      "Requirement already satisfied: Pillow==10.0.1 in c:\\users\\эльвира\\appdata\\roaming\\python\\python310\\site-packages (10.0.1)\n",
      "Note: you may need to restart the kernel to use updated packages.\n"
     ]
    },
    {
     "name": "stderr",
     "output_type": "stream",
     "text": [
      "\n",
      "[notice] A new release of pip available: 22.3.1 -> 23.3.1\n",
      "[notice] To update, run: python.exe -m pip install --upgrade pip\n"
     ]
    },
    {
     "name": "stdout",
     "output_type": "stream",
     "text": [
      "Defaulting to user installation because normal site-packages is not writeable\n",
      "Requirement already satisfied: numpy==1.24.3 in c:\\users\\эльвира\\appdata\\roaming\\python\\python310\\site-packages (1.24.3)\n",
      "Note: you may need to restart the kernel to use updated packages.\n"
     ]
    },
    {
     "name": "stderr",
     "output_type": "stream",
     "text": [
      "\n",
      "[notice] A new release of pip available: 22.3.1 -> 23.3.1\n",
      "[notice] To update, run: python.exe -m pip install --upgrade pip\n"
     ]
    },
    {
     "name": "stdout",
     "output_type": "stream",
     "text": [
      "Defaulting to user installation because normal site-packages is not writeable\n",
      "Requirement already satisfied: opencv-python==4.6.0.66 in c:\\users\\эльвира\\appdata\\roaming\\python\\python310\\site-packages (4.6.0.66)\n",
      "Requirement already satisfied: numpy>=1.14.5 in c:\\users\\эльвира\\appdata\\roaming\\python\\python310\\site-packages (from opencv-python==4.6.0.66) (1.24.3)\n",
      "Note: you may need to restart the kernel to use updated packages.\n"
     ]
    },
    {
     "name": "stderr",
     "output_type": "stream",
     "text": [
      "\n",
      "[notice] A new release of pip available: 22.3.1 -> 23.3.1\n",
      "[notice] To update, run: python.exe -m pip install --upgrade pip\n"
     ]
    }
   ],
   "source": [
    "%pip install ultralytics==8.0.198\n",
    "%pip install tifffile==2023.9.26\n",
    "%pip install Pillow==10.0.1\n",
    "%pip install numpy==1.24.3\n",
    "%pip install opencv-python==4.6.0.66"
   ]
  },
  {
   "attachments": {},
   "cell_type": "markdown",
   "metadata": {},
   "source": [
    "### Импорт библиотек"
   ]
  },
  {
   "cell_type": "code",
   "execution_count": 10,
   "metadata": {},
   "outputs": [],
   "source": [
    "import cv2\n",
    "import numpy as np\n",
    "from PIL import Image\n",
    "import tifffile\n",
    "from ultralytics import YOLO"
   ]
  },
  {
   "attachments": {},
   "cell_type": "markdown",
   "metadata": {},
   "source": [
    "Импорт функций из detectors.py, в данном файле находится пара вспомогательных функций, детектор ансамбля и его система голосования."
   ]
  },
  {
   "cell_type": "code",
   "execution_count": 11,
   "metadata": {},
   "outputs": [],
   "source": [
    "import detectors"
   ]
  },
  {
   "attachments": {},
   "cell_type": "markdown",
   "metadata": {},
   "source": [
    "## -=Загрузка моделей=-"
   ]
  },
  {
   "attachments": {},
   "cell_type": "markdown",
   "metadata": {},
   "source": [
    "Всего есть два ансамбля по 3 модели:\n",
    "1. Для обработки RGB изображений\n",
    "2. Для обработки tiff изображений\n",
    "\n",
    "Оба ансамбля были проверены, и имеют примерно одинаковую точность и предсказания.\n",
    "Обучение модели одновременно на детекцию в tiff и RGB снижает её общую точность."
   ]
  },
  {
   "cell_type": "code",
   "execution_count": 12,
   "metadata": {},
   "outputs": [],
   "source": [
    "#Ансамбль РГБ\n",
    "model1 = YOLO(\"models/YOLOv8/yolov8_combined_pre_s.pt\")\n",
    "model2 = YOLO(\"models/YOLOv8/yolov8_combined_pre_s.pt\")\n",
    "model3 = YOLO(\"models/YOLOv8/yolov8_combined_s.pt\")\n",
    "models_RGB = [model1, model2, model3]\n",
    "\n",
    "#Ансамбль tiff\n",
    "model1_t = YOLO(\"models/YOLOv8/yolov8_combined_pre_s.pt\")\n",
    "model2_t = YOLO(\"models/YOLOv8/yolov8_combined_pre_s.pt\")\n",
    "model3_t = YOLO(\"models/YOLOv8/yolov8_combined_s.pt\")\n",
    "models_tiff = [model1_t, model2_t, model3_t]"
   ]
  },
  {
   "attachments": {},
   "cell_type": "markdown",
   "metadata": {},
   "source": [
    "## -=Детекция=-"
   ]
  },
  {
   "attachments": {},
   "cell_type": "markdown",
   "metadata": {},
   "source": [
    "### Детекция на изображениях RGB"
   ]
  },
  {
   "attachments": {},
   "cell_type": "markdown",
   "metadata": {},
   "source": [
    "Загрузка изображения"
   ]
  },
  {
   "cell_type": "code",
   "execution_count": null,
   "metadata": {},
   "outputs": [],
   "source": [
    "image = Image.open(\"examples/test0.png\")\n",
    "display(image)"
   ]
  },
  {
   "attachments": {},
   "cell_type": "markdown",
   "metadata": {},
   "source": [
    "Детекция"
   ]
  },
  {
   "cell_type": "code",
   "execution_count": null,
   "metadata": {},
   "outputs": [],
   "source": [
    "image, results = detectors.ensemble_detect(models_RGB, image)\n",
    "display(image)\n",
    "print(f\"Дерево:{results[0]}\")\n",
    "print(f\"Стекло:{results[1]}\")\n",
    "print(f\"Пластик:{results[2]}\")\n",
    "print(f\"Металл:{results[3]}\")"
   ]
  },
  {
   "attachments": {},
   "cell_type": "markdown",
   "metadata": {},
   "source": [
    "### Детекция на изображениях tiff"
   ]
  },
  {
   "attachments": {},
   "cell_type": "markdown",
   "metadata": {},
   "source": [
    "Выбор длины волны из 400, 430, 460, 490, 520, 550, 580, 610, 640, 670, 700\n",
    "\n",
    "От 0 до 10 соответственно"
   ]
  },
  {
   "cell_type": "code",
   "execution_count": 7,
   "metadata": {},
   "outputs": [],
   "source": [
    "wave_length = 0"
   ]
  },
  {
   "attachments": {},
   "cell_type": "markdown",
   "metadata": {},
   "source": [
    "Загрузка изображения"
   ]
  },
  {
   "cell_type": "code",
   "execution_count": null,
   "metadata": {},
   "outputs": [],
   "source": [
    "image = tifffile.imread('examples/0000.tif')\n",
    "channel = image[wave_length, :, :]\n",
    "channel = (channel * 255).astype(np.uint8)\n",
    "channel_image = Image.fromarray(channel)       \n",
    "display(channel_image)"
   ]
  },
  {
   "attachments": {},
   "cell_type": "markdown",
   "metadata": {},
   "source": [
    "Детекция"
   ]
  },
  {
   "cell_type": "code",
   "execution_count": null,
   "metadata": {},
   "outputs": [],
   "source": [
    "image, results = detectors.ensemble_detect(models_tiff, channel_image)\n",
    "display(image)\n",
    "print(f\"Дерево:{results[0]}\")\n",
    "print(f\"Стекло:{results[1]}\")\n",
    "print(f\"Пластик:{results[2]}\")\n",
    "print(f\"Металл:{results[3]}\")"
   ]
  },
  {
   "attachments": {},
   "cell_type": "markdown",
   "metadata": {},
   "source": [
    "### Детекция на видео и подсчёт общего количества уникальных объектов"
   ]
  },
  {
   "attachments": {},
   "cell_type": "markdown",
   "metadata": {},
   "source": [
    "Загрузка видео"
   ]
  },
  {
   "cell_type": "code",
   "execution_count": 13,
   "metadata": {},
   "outputs": [],
   "source": [
    "video_capture = cv2.VideoCapture('examples/output0.mp4')"
   ]
  },
  {
   "attachments": {},
   "cell_type": "markdown",
   "metadata": {},
   "source": [
    "Детекция\n",
    "\n",
    "Детекция уникальных объектов происходит \"в лоб\": каждые 25 кадров берётся фрейм, результаты детекции подсчитываются и суммируются, да, звучит просто и наивно, но результаты сравнительно неплохие, особенно относительно треко-детекций которых мы находили с открытым исходным кодом.\n",
    "\n",
    "К сожалению, показ самого видеопотока пока не предусмотрен"
   ]
  },
  {
   "cell_type": "code",
   "execution_count": 9,
   "metadata": {},
   "outputs": [
    {
     "ename": "NameError",
     "evalue": "name 'video_capture' is not defined",
     "output_type": "error",
     "traceback": [
      "\u001b[1;31m---------------------------------------------------------------------------\u001b[0m",
      "\u001b[1;31mNameError\u001b[0m                                 Traceback (most recent call last)",
      "\u001b[1;32mc:\\work\\Net\\HackPerm\\GarbagePi\\GarbDetector.ipynb Cell 29\u001b[0m line \u001b[0;36m4\n\u001b[0;32m      <a href='vscode-notebook-cell:/c%3A/work/Net/HackPerm/GarbagePi/GarbDetector.ipynb#X40sZmlsZQ%3D%3D?line=1'>2</a>\u001b[0m counter \u001b[39m=\u001b[39m \u001b[39m0\u001b[39m\n\u001b[0;32m      <a href='vscode-notebook-cell:/c%3A/work/Net/HackPerm/GarbagePi/GarbDetector.ipynb#X40sZmlsZQ%3D%3D?line=2'>3</a>\u001b[0m \u001b[39mwhile\u001b[39;00m \u001b[39mTrue\u001b[39;00m:\n\u001b[1;32m----> <a href='vscode-notebook-cell:/c%3A/work/Net/HackPerm/GarbagePi/GarbDetector.ipynb#X40sZmlsZQ%3D%3D?line=3'>4</a>\u001b[0m     ret, frame \u001b[39m=\u001b[39m video_capture\u001b[39m.\u001b[39mread()\n\u001b[0;32m      <a href='vscode-notebook-cell:/c%3A/work/Net/HackPerm/GarbagePi/GarbDetector.ipynb#X40sZmlsZQ%3D%3D?line=4'>5</a>\u001b[0m     \u001b[39mif\u001b[39;00m \u001b[39mnot\u001b[39;00m ret:\n\u001b[0;32m      <a href='vscode-notebook-cell:/c%3A/work/Net/HackPerm/GarbagePi/GarbDetector.ipynb#X40sZmlsZQ%3D%3D?line=5'>6</a>\u001b[0m         \u001b[39mbreak\u001b[39;00m  \n",
      "\u001b[1;31mNameError\u001b[0m: name 'video_capture' is not defined"
     ]
    }
   ],
   "source": [
    "res = []\n",
    "counter = 0\n",
    "while True:\n",
    "    ret, frame = video_capture.read()\n",
    "    if not ret:\n",
    "        break  \n",
    "             \n",
    "    counter += 1    \n",
    "    \n",
    "    processed_frame, results = detectors.ensemble_detect(models_RGB, frame)\n",
    "    if counter % 25 == 0:   \n",
    "        res.append(results)\n",
    "    sums = [sum(x) for x in zip(*res)]\n",
    "        \n",
    "print(f\"Дерево:{sums[0]}\")\n",
    "print(f\"Стекло:{sums[1]}\")\n",
    "print(f\"Пластик:{sums[2]}\")\n",
    "print(f\"Металл:{sums[3]}\")"
   ]
  },
  {
   "attachments": {},
   "cell_type": "markdown",
   "metadata": {},
   "source": [
    "### Детекция на потоке с камеры устройства"
   ]
  },
  {
   "cell_type": "markdown",
   "metadata": {},
   "source": [
    "Блок ниже запустит захват с устройства с номеном 0, после чего откроется новое окно, в котором будет показано изображение с потока с детекцией.\n",
    "Задержка достаточно большая, эт освязано с тем, что в данном случае три модели отрабатывают последовательно, в теории, процесс можно ускорить, если использовать модели в многопоточном режиме.\n",
    "\n",
    "Чтобы закрыть окно, необходимо нажать клавишу \"ESC\""
   ]
  },
  {
   "cell_type": "code",
   "execution_count": 6,
   "metadata": {},
   "outputs": [
    {
     "name": "stderr",
     "output_type": "stream",
     "text": [
      "\n",
      "0: 480x640 2 plastics, 15.2ms\n",
      "Speed: 3.1ms preprocess, 15.2ms inference, 5.0ms postprocess per image at shape (1, 3, 480, 640)\n",
      "\n",
      "0: 480x640 2 plastics, 11.0ms\n",
      "Speed: 2.0ms preprocess, 11.0ms inference, 2.0ms postprocess per image at shape (1, 3, 480, 640)\n",
      "\n",
      "0: 480x640 1 wood, 1 glass, 10.0ms\n",
      "Speed: 2.1ms preprocess, 10.0ms inference, 1.9ms postprocess per image at shape (1, 3, 480, 640)\n",
      "\n",
      "0: 480x640 1 glass, 5 plastics, 10.0ms\n",
      "Speed: 2.0ms preprocess, 10.0ms inference, 1.0ms postprocess per image at shape (1, 3, 480, 640)\n",
      "\n",
      "0: 480x640 1 wood, 1 glass, 11.5ms\n",
      "Speed: 1.0ms preprocess, 11.5ms inference, 2.0ms postprocess per image at shape (1, 3, 480, 640)\n",
      "\n",
      "0: 480x640 1 glass, 3 plastics, 11.2ms\n",
      "Speed: 2.0ms preprocess, 11.2ms inference, 2.0ms postprocess per image at shape (1, 3, 480, 640)\n",
      "\n",
      "0: 480x640 1 wood, 1 glass, 12.2ms\n",
      "Speed: 3.0ms preprocess, 12.2ms inference, 2.1ms postprocess per image at shape (1, 3, 480, 640)\n",
      "\n",
      "0: 480x640 1 glass, 2 plastics, 10.0ms\n",
      "Speed: 2.0ms preprocess, 10.0ms inference, 1.0ms postprocess per image at shape (1, 3, 480, 640)\n",
      "\n",
      "0: 480x640 1 wood, 1 glass, 1 metal, 10.5ms\n",
      "Speed: 2.0ms preprocess, 10.5ms inference, 1.0ms postprocess per image at shape (1, 3, 480, 640)\n",
      "\n",
      "0: 480x640 1 glass, 3 plastics, 9.1ms\n",
      "Speed: 2.0ms preprocess, 9.1ms inference, 1.0ms postprocess per image at shape (1, 3, 480, 640)\n",
      "\n",
      "0: 480x640 2 woods, 1 glass, 10.0ms\n",
      "Speed: 2.0ms preprocess, 10.0ms inference, 1.0ms postprocess per image at shape (1, 3, 480, 640)\n",
      "\n",
      "0: 480x640 1 glass, 4 plastics, 10.2ms\n",
      "Speed: 1.0ms preprocess, 10.2ms inference, 1.0ms postprocess per image at shape (1, 3, 480, 640)\n",
      "\n",
      "0: 480x640 1 wood, 1 glass, 10.0ms\n",
      "Speed: 2.0ms preprocess, 10.0ms inference, 1.0ms postprocess per image at shape (1, 3, 480, 640)\n",
      "\n",
      "0: 480x640 4 plastics, 1 metal, 10.1ms\n",
      "Speed: 2.0ms preprocess, 10.1ms inference, 2.0ms postprocess per image at shape (1, 3, 480, 640)\n",
      "\n",
      "0: 480x640 1 wood, 10.5ms\n",
      "Speed: 2.0ms preprocess, 10.5ms inference, 1.0ms postprocess per image at shape (1, 3, 480, 640)\n",
      "\n",
      "0: 480x640 2 plastics, 15.0ms\n",
      "Speed: 2.0ms preprocess, 15.0ms inference, 3.0ms postprocess per image at shape (1, 3, 480, 640)\n",
      "\n",
      "0: 480x640 2 woods, 1 glass, 9.0ms\n",
      "Speed: 2.0ms preprocess, 9.0ms inference, 1.0ms postprocess per image at shape (1, 3, 480, 640)\n",
      "\n",
      "0: 480x640 3 plastics, 1 metal, 12.1ms\n",
      "Speed: 1.0ms preprocess, 12.1ms inference, 1.0ms postprocess per image at shape (1, 3, 480, 640)\n",
      "\n",
      "0: 480x640 1 wood, 14.3ms\n",
      "Speed: 3.0ms preprocess, 14.3ms inference, 2.0ms postprocess per image at shape (1, 3, 480, 640)\n",
      "\n",
      "0: 480x640 1 wood, 4 plastics, 12.1ms\n",
      "Speed: 1.0ms preprocess, 12.1ms inference, 1.0ms postprocess per image at shape (1, 3, 480, 640)\n",
      "\n",
      "0: 480x640 1 wood, 1 glass, 12.0ms\n",
      "Speed: 1.0ms preprocess, 12.0ms inference, 2.0ms postprocess per image at shape (1, 3, 480, 640)\n",
      "\n",
      "0: 480x640 4 plastics, 1 metal, 11.2ms\n",
      "Speed: 2.0ms preprocess, 11.2ms inference, 1.0ms postprocess per image at shape (1, 3, 480, 640)\n",
      "\n",
      "0: 480x640 2 woods, 1 glass, 12.0ms\n",
      "Speed: 2.5ms preprocess, 12.0ms inference, 1.0ms postprocess per image at shape (1, 3, 480, 640)\n",
      "\n",
      "0: 480x640 3 plastics, 12.0ms\n",
      "Speed: 2.0ms preprocess, 12.0ms inference, 2.0ms postprocess per image at shape (1, 3, 480, 640)\n",
      "\n",
      "0: 480x640 1 wood, 13.0ms\n",
      "Speed: 2.0ms preprocess, 13.0ms inference, 1.0ms postprocess per image at shape (1, 3, 480, 640)\n",
      "\n",
      "0: 480x640 4 plastics, 12.5ms\n",
      "Speed: 2.0ms preprocess, 12.5ms inference, 1.0ms postprocess per image at shape (1, 3, 480, 640)\n",
      "\n",
      "0: 480x640 1 wood, 12.1ms\n",
      "Speed: 2.0ms preprocess, 12.1ms inference, 3.1ms postprocess per image at shape (1, 3, 480, 640)\n",
      "\n",
      "0: 480x640 3 plastics, 13.2ms\n",
      "Speed: 1.1ms preprocess, 13.2ms inference, 1.0ms postprocess per image at shape (1, 3, 480, 640)\n",
      "\n",
      "0: 480x640 2 woods, 13.0ms\n",
      "Speed: 2.0ms preprocess, 13.0ms inference, 1.0ms postprocess per image at shape (1, 3, 480, 640)\n"
     ]
    }
   ],
   "source": [
    "vid = cv2.VideoCapture(0) \n",
    "  \n",
    "while(True): \n",
    "    ret, frame = vid.read() \n",
    "    image, results = detectors.ensemble_detect(models_RGB, frame)\n",
    "    new_image = np.array(image.convert('RGBA'), dtype=np.uint8)\n",
    "    cv2.imshow('frame', new_image) \n",
    "      \n",
    "    #\"ESC\" чтобы закрыть окно\n",
    "    if cv2.waitKey(1) & 0xFF == 27:\n",
    "        break\n",
    "   \n",
    "vid.release() \n",
    "cv2.destroyAllWindows() "
   ]
  },
  {
   "cell_type": "markdown",
   "metadata": {},
   "source": [
    "В данном блоке демонстрируется скорость работы с одной моделью"
   ]
  },
  {
   "cell_type": "code",
   "execution_count": 16,
   "metadata": {},
   "outputs": [],
   "source": [
    "vid = cv2.VideoCapture(0) \n",
    "  \n",
    "while(True): \n",
    "    ret, frame = vid.read() \n",
    "    #frame = np.array(image.convert('RGB'), dtype=np.uint8)\n",
    "    image, results = detectors.ensemble_detect([model1], frame)\n",
    "    new_image = np.array(image.convert('RGBA'), dtype=np.uint8)\n",
    "    cv2.imshow('frame', new_image) \n",
    "      \n",
    "    #\"ESC\" чтобы закрыть окно\n",
    "    if cv2.waitKey(1) & 0xFF == 27:\n",
    "        break\n",
    "   \n",
    "vid.release() \n",
    "cv2.destroyAllWindows() "
   ]
  }
 ],
 "metadata": {
  "kernelspec": {
   "display_name": "Python 3",
   "language": "python",
   "name": "python3"
  },
  "language_info": {
   "codemirror_mode": {
    "name": "ipython",
    "version": 3
   },
   "file_extension": ".py",
   "mimetype": "text/x-python",
   "name": "python",
   "nbconvert_exporter": "python",
   "pygments_lexer": "ipython3",
   "version": "3.10.10"
  },
  "orig_nbformat": 4
 },
 "nbformat": 4,
 "nbformat_minor": 2
}
