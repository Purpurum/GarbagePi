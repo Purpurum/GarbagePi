{
 "cells": [
  {
   "attachments": {},
   "cell_type": "markdown",
   "metadata": {},
   "source": [
    "## -=Подготовка к запуску=-"
   ]
  },
  {
   "attachments": {},
   "cell_type": "markdown",
   "metadata": {},
   "source": [
    "### Установка пакетов"
   ]
  },
  {
   "attachments": {},
   "cell_type": "markdown",
   "metadata": {},
   "source": [
    "В случае, если пакеты через requirements.тхт установлены не были, блок ниже установит все необходимые пакеты для работы данного блокнота."
   ]
  },
  {
   "cell_type": "code",
   "execution_count": null,
   "metadata": {},
   "outputs": [],
   "source": [
    "%pip install ultralytics==8.0.198\n",
    "%pip install tifffile==2023.9.26\n",
    "%pip install Pillow==10.0.1\n",
    "%pip install numpy==1.24.3\n",
    "%pip install opencv-python==4.6.0.66"
   ]
  },
  {
   "attachments": {},
   "cell_type": "markdown",
   "metadata": {},
   "source": [
    "### Импорт библиотек"
   ]
  },
  {
   "cell_type": "code",
   "execution_count": null,
   "metadata": {},
   "outputs": [],
   "source": [
    "import cv2\n",
    "import numpy as np\n",
    "from PIL import Image\n",
    "import tifffile\n",
    "from ultralytics import YOLO"
   ]
  },
  {
   "attachments": {},
   "cell_type": "markdown",
   "metadata": {},
   "source": [
    "Импорт функций из detectors.py, в данном файле находится пара вспомогательных функций, детектор ансамбля и его система голосования."
   ]
  },
  {
   "cell_type": "code",
   "execution_count": null,
   "metadata": {},
   "outputs": [],
   "source": [
    "import detectors"
   ]
  },
  {
   "attachments": {},
   "cell_type": "markdown",
   "metadata": {},
   "source": [
    "## -=Загрузка моделей=-"
   ]
  },
  {
   "attachments": {},
   "cell_type": "markdown",
   "metadata": {},
   "source": [
    "Всего есть два ансамбля по 3 модели:\n",
    "1. Для обработки RGB изображений\n",
    "2. Для обработки tiff изображений\n",
    "\n",
    "Оба ансамбля были проверены, и имеют примерно одинаковую точность и предсказания.\n",
    "Обучение модели одновременно на детекцию в tiff и RGB снижает её общую точность."
   ]
  },
  {
   "cell_type": "code",
   "execution_count": null,
   "metadata": {},
   "outputs": [],
   "source": [
    "#Ансамбль РГБ\n",
    "model1 = YOLO(\"models/YOLOv8/Model_type1.pt\")\n",
    "model2 = YOLO(\"models/YOLOv8/Model_type2.pt\")\n",
    "model3 = YOLO(\"models/YOLOv8/Model_type3.pt\")\n",
    "models_RGB = [model1, model2, model3]\n",
    "\n",
    "#Ансамбль tiff\n",
    "model1_t = YOLO(\"models/YOLOv8/Model_type1_t.pt\")\n",
    "model2_t = YOLO(\"models/YOLOv8/Model_type2_t.pt\")\n",
    "model3_t = YOLO(\"models/YOLOv8/Model_type3_t.pt\")\n",
    "models_tiff = [model1_t, model2_t, model3_t]"
   ]
  },
  {
   "attachments": {},
   "cell_type": "markdown",
   "metadata": {},
   "source": [
    "## -=Детекция=-"
   ]
  },
  {
   "attachments": {},
   "cell_type": "markdown",
   "metadata": {},
   "source": [
    "### Детекция на изображениях RGB"
   ]
  },
  {
   "attachments": {},
   "cell_type": "markdown",
   "metadata": {},
   "source": [
    "Загрузка изображения"
   ]
  },
  {
   "cell_type": "code",
   "execution_count": null,
   "metadata": {},
   "outputs": [],
   "source": [
    "image = Image.open(\"examples/test0.png\")\n",
    "display(image)"
   ]
  },
  {
   "attachments": {},
   "cell_type": "markdown",
   "metadata": {},
   "source": [
    "Детекция"
   ]
  },
  {
   "cell_type": "code",
   "execution_count": null,
   "metadata": {},
   "outputs": [],
   "source": [
    "image, results = detectors.ensemble_detect(models_RGB, image)\n",
    "display(image)\n",
    "print(f\"Дерево:{results[0]}\")\n",
    "print(f\"Стекло:{results[1]}\")\n",
    "print(f\"Пластик:{results[2]}\")\n",
    "print(f\"Металл:{results[3]}\")"
   ]
  },
  {
   "attachments": {},
   "cell_type": "markdown",
   "metadata": {},
   "source": [
    "### Детекция на изображениях tiff"
   ]
  },
  {
   "attachments": {},
   "cell_type": "markdown",
   "metadata": {},
   "source": [
    "Выбор длины волны из 400, 430, 460, 490, 520, 550, 580, 610, 640, 670, 700\n",
    "\n",
    "От 0 до 10 соответственно"
   ]
  },
  {
   "cell_type": "code",
   "execution_count": null,
   "metadata": {},
   "outputs": [],
   "source": [
    "wave_length = 0"
   ]
  },
  {
   "attachments": {},
   "cell_type": "markdown",
   "metadata": {},
   "source": [
    "Загрузка изображения"
   ]
  },
  {
   "cell_type": "code",
   "execution_count": null,
   "metadata": {},
   "outputs": [],
   "source": [
    "image = tifffile.imread('examples/0000.tif')\n",
    "channel = image[wave_length, :, :]\n",
    "channel = (channel * 255).astype(np.uint8)\n",
    "channel_image = Image.fromarray(channel)       \n",
    "display(channel_image)"
   ]
  },
  {
   "attachments": {},
   "cell_type": "markdown",
   "metadata": {},
   "source": [
    "Детекция"
   ]
  },
  {
   "cell_type": "code",
   "execution_count": null,
   "metadata": {},
   "outputs": [],
   "source": [
    "image, results = detectors.ensemble_detect(models_tiff, channel_image)\n",
    "display(image)\n",
    "print(f\"Дерево:{results[0]}\")\n",
    "print(f\"Стекло:{results[1]}\")\n",
    "print(f\"Пластик:{results[2]}\")\n",
    "print(f\"Металл:{results[3]}\")"
   ]
  },
  {
   "attachments": {},
   "cell_type": "markdown",
   "metadata": {},
   "source": [
    "### Детекция на видео и подсчёт общего количества уникальных объектов"
   ]
  },
  {
   "attachments": {},
   "cell_type": "markdown",
   "metadata": {},
   "source": [
    "Загрузка видео"
   ]
  },
  {
   "cell_type": "code",
   "execution_count": null,
   "metadata": {},
   "outputs": [],
   "source": [
    "video_capture = cv2.VideoCapture('examples/output0.mp4')"
   ]
  },
  {
   "attachments": {},
   "cell_type": "markdown",
   "metadata": {},
   "source": [
    "Детекция\n",
    "\n",
    "Детекция уникальных объектов происходит \"в лоб\": каждые 25 кадров берётся фрейм, результаты детекции подсчитываются и суммируются, да, звучит просто и наивно, но результаты сравнительно неплохие, особенно относительно треко-детекций которых мы находили с открытым исходным кодом.\n",
    "\n",
    "К сожалению, показ самого видеопотока пока не предусмотрен"
   ]
  },
  {
   "cell_type": "code",
   "execution_count": null,
   "metadata": {},
   "outputs": [],
   "source": [
    "res = []\n",
    "counter = 0\n",
    "while True:\n",
    "    ret, frame = video_capture.read()\n",
    "    if not ret:\n",
    "        break  \n",
    "             \n",
    "    counter += 1    \n",
    "    \n",
    "    processed_frame, results = detectors.ensemble_detect(models_RGB, frame)\n",
    "    if counter % 25 == 0:   \n",
    "        res.append(results)\n",
    "    sums = [sum(x) for x in zip(*res)]\n",
    "        \n",
    "print(f\"Дерево:{sums[0]}\")\n",
    "print(f\"Стекло:{sums[1]}\")\n",
    "print(f\"Пластик:{sums[2]}\")\n",
    "print(f\"Металл:{sums[3]}\")"
   ]
  },
  {
   "attachments": {},
   "cell_type": "markdown",
   "metadata": {},
   "source": [
    "### Детекция на потоке с камеры устройства"
   ]
  },
  {
   "cell_type": "markdown",
   "metadata": {},
   "source": [
    "Блок ниже запустит захват с устройства с номеном 0, после чего откроется новое окно, в котором будет показано изображение с потока с детекцией.\n",
    "Задержка достаточно большая, эт освязано с тем, что в данном случае три модели отрабатывают последовательно, в теории, процесс можно ускорить, если использовать модели в многопоточном режиме.\n",
    "\n",
    "Чтобы закрыть окно, необходимо нажать клавишу \"ESC\""
   ]
  },
  {
   "cell_type": "code",
   "execution_count": null,
   "metadata": {},
   "outputs": [],
   "source": [
    "vid = cv2.VideoCapture(0) \n",
    "  \n",
    "while(True): \n",
    "    ret, frame = vid.read() \n",
    "    image, results = detectors.ensemble_detect(models_RGB, frame)\n",
    "    new_image = np.array(image.convert('RGBA'), dtype=np.uint8)\n",
    "    cv2.imshow('frame', new_image) \n",
    "      \n",
    "    #\"ESC\" чтобы закрыть окно\n",
    "    if cv2.waitKey(1) & 0xFF == 27:\n",
    "        break\n",
    "   \n",
    "vid.release() \n",
    "cv2.destroyAllWindows() "
   ]
  },
  {
   "cell_type": "markdown",
   "metadata": {},
   "source": [
    "В данном блоке демонстрируется скорость работы с одной моделью"
   ]
  },
  {
   "cell_type": "code",
   "execution_count": null,
   "metadata": {},
   "outputs": [],
   "source": [
    "vid = cv2.VideoCapture(0) \n",
    "  \n",
    "while(True): \n",
    "    ret, frame = vid.read() \n",
    "    #frame = np.array(image.convert('RGB'), dtype=np.uint8)\n",
    "    image, results = detectors.ensemble_detect([model1], frame)\n",
    "    new_image = np.array(image.convert('RGBA'), dtype=np.uint8)\n",
    "    cv2.imshow('frame', new_image) \n",
    "      \n",
    "    #\"ESC\" чтобы закрыть окно\n",
    "    if cv2.waitKey(1) & 0xFF == 27:\n",
    "        break\n",
    "   \n",
    "vid.release() \n",
    "cv2.destroyAllWindows() "
   ]
  }
 ],
 "metadata": {
  "kernelspec": {
   "display_name": "Python 3",
   "language": "python",
   "name": "python3"
  },
  "language_info": {
   "codemirror_mode": {
    "name": "ipython",
    "version": 3
   },
   "file_extension": ".py",
   "mimetype": "text/x-python",
   "name": "python",
   "nbconvert_exporter": "python",
   "pygments_lexer": "ipython3",
   "version": "3.10.10"
  },
  "orig_nbformat": 4
 },
 "nbformat": 4,
 "nbformat_minor": 2
}
